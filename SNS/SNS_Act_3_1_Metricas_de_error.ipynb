{
  "nbformat": 4,
  "nbformat_minor": 0,
  "metadata": {
    "colab": {
      "provenance": [],
      "include_colab_link": true
    },
    "kernelspec": {
      "name": "python3",
      "display_name": "Python 3"
    },
    "language_info": {
      "name": "python"
    }
  },
  "cells": [
    {
      "cell_type": "markdown",
      "metadata": {
        "id": "view-in-github",
        "colab_type": "text"
      },
      "source": [
        "<a href=\"https://colab.research.google.com/github/zerxe/CEIABDAT/blob/main/SNS/SNS_Act_3_1_Metricas_de_error.ipynb\" target=\"_parent\"><img src=\"https://colab.research.google.com/assets/colab-badge.svg\" alt=\"Open In Colab\"/></a>"
      ]
    },
    {
      "cell_type": "markdown",
      "source": [
        "Adolfo Morales Colmenares"
      ],
      "metadata": {
        "id": "ivWEP5vr31dc"
      }
    },
    {
      "cell_type": "markdown",
      "source": [
        "# Actividad 3.1 - Métricas de error para los problemas de regresión 24_25\n",
        "\n",
        "A partir de los ejemplos indicados realizar los ejercicios propuestos"
      ],
      "metadata": {
        "id": "irnc2RYVuYVU"
      }
    },
    {
      "cell_type": "code",
      "source": [
        "#IMPORTS\n",
        "#Error absoluto medio - mae\n",
        "from sklearn.metrics import mean_absolute_error\n",
        "# Error de porcentaje absoluto medio - mape\n",
        "from sklearn.metrics import mean_absolute_percentage_error\n",
        "# Error cuadrático medio - mse\n",
        "from sklearn.metrics import mean_squared_error"
      ],
      "metadata": {
        "id": "WdnkU5Yn368w"
      },
      "execution_count": 1,
      "outputs": []
    },
    {
      "cell_type": "markdown",
      "source": [
        "## Ejemplo 1"
      ],
      "metadata": {
        "id": "U0s12Nqy4KeB"
      }
    },
    {
      "cell_type": "code",
      "execution_count": 2,
      "metadata": {
        "colab": {
          "base_uri": "https://localhost:8080/"
        },
        "id": "jVLFdfzxdsfG",
        "outputId": "2c707bd8-887a-4f08-b70d-5a566c638240"
      },
      "outputs": [
        {
          "output_type": "execute_result",
          "data": {
            "text/plain": [
              "0.0"
            ]
          },
          "metadata": {},
          "execution_count": 2
        }
      ],
      "source": [
        "# Ejemplo 1\n",
        "y_true = [2.5, 0, 2, 8]\n",
        "y_pred = [2.5, 0, 2, 8]\n",
        "mean_absolute_error(y_true, y_pred)"
      ]
    },
    {
      "cell_type": "markdown",
      "source": [
        "## Ejer 1: Crear dos vectores/arrays de valores ciertos y valores previstos, y calcular el **MAE**."
      ],
      "metadata": {
        "id": "J1IlVgmB4MO0"
      }
    },
    {
      "cell_type": "code",
      "source": [
        "# Ejer 1: Crear dos vectores/arrays de valores ciertos y valores previstos, y calcular el mae.\n",
        "\n",
        "# ¿Qué valores deberían de tener el array pred para que el error fuese 0?\n",
        "# los mismos valores que los valores ciertos\n",
        "y_true = [6, 1.8, 9, 12]\n",
        "y_pred = [6, 1.8, 9, 12]\n",
        "print('MAE Error 0.00: -->', mean_absolute_error(y_true, y_pred) )\n",
        "# ¿y para que error fuese de 0.25?\n",
        "# cambiando los valores del pred hasta que te 0.25\n",
        "y_pred = [6, 1.8, 9, 11]\n",
        "print('MAE Error 0.25: -->', mean_absolute_error(y_true, y_pred))"
      ],
      "metadata": {
        "id": "67XK1bXegMai",
        "colab": {
          "base_uri": "https://localhost:8080/"
        },
        "outputId": "eb7e7bcb-8e77-452f-a663-9fd59f656f9a"
      },
      "execution_count": 3,
      "outputs": [
        {
          "output_type": "stream",
          "name": "stdout",
          "text": [
            "MAE Error 0.00: --> 0.0\n",
            "MAE Error 0.25: --> 0.25\n"
          ]
        }
      ]
    },
    {
      "cell_type": "markdown",
      "source": [
        "## Ejemplo 2:"
      ],
      "metadata": {
        "id": "AekG7IxJ4Oxw"
      }
    },
    {
      "cell_type": "code",
      "source": [
        "# Ejemplo 2\n",
        "y_true = [[0.5, 1], [-1, 1], [7, -6]]\n",
        "y_pred = [[0, 2], [-1, 2], [8, -5]]\n",
        "mean_absolute_error(y_true, y_pred)"
      ],
      "metadata": {
        "id": "3LhzsD30f60T",
        "colab": {
          "base_uri": "https://localhost:8080/"
        },
        "outputId": "55804c95-5bdf-4711-fa73-5d384e43935c"
      },
      "execution_count": 4,
      "outputs": [
        {
          "output_type": "execute_result",
          "data": {
            "text/plain": [
              "0.75"
            ]
          },
          "metadata": {},
          "execution_count": 4
        }
      ]
    },
    {
      "cell_type": "markdown",
      "source": [
        "## Ejer 2: Crear dos matrices/arrays de valores ciertos y valores previstos, y calcular el **MSE**.\n"
      ],
      "metadata": {
        "id": "K6JjAGrb4SqT"
      }
    },
    {
      "cell_type": "code",
      "source": [
        "# Ejer 2: Crear dos matrices/arrays de valores ciertos y valores previstos, y calcular el mae.\n",
        "# ¿Qué valores deberían de tener el array pred para que el error fuese 0? ¿y para que error fuese de 0.33?"
      ],
      "metadata": {
        "id": "LnPx6A4Astfq"
      },
      "execution_count": 5,
      "outputs": []
    },
    {
      "cell_type": "code",
      "source": [
        "y_true = [13, 9.5, 32, 17]\n",
        "y_pred = [13, 9.5, 32, 17]\n",
        "\n",
        "print('MSE Error 0.00: -->', mean_squared_error(y_true, y_pred) )\n",
        "# ¿y para que error fuese de 0.33?\n",
        "# cambiando los valores del pred hasta que te 0.33\n",
        "y_pred = [12.635, 9.5, 32, 17]\n",
        "print('MSE Error 0.33: -->', mean_squared_error(y_true, y_pred))"
      ],
      "metadata": {
        "colab": {
          "base_uri": "https://localhost:8080/"
        },
        "id": "59efr-GWgKP6",
        "outputId": "48e1f9a7-dc9c-4a2e-e0ee-8f9d354b63f3"
      },
      "execution_count": 6,
      "outputs": [
        {
          "output_type": "stream",
          "name": "stdout",
          "text": [
            "MSE Error 0.00: --> 0.0\n",
            "MSE Error 0.33: --> 0.03330625000000004\n"
          ]
        }
      ]
    },
    {
      "cell_type": "markdown",
      "source": [
        "## Ejer 3: Crear dos vectores/arrays de valores ciertos y valores previstos, y calcular el **MSE**.\n"
      ],
      "metadata": {
        "id": "Im3Pglo84Zt-"
      }
    },
    {
      "cell_type": "code",
      "source": [
        "# Ejer 3: Crear dos vectores/arrays de valores ciertos y valores previstos, y calcular el mse.\n",
        "# ¿Qué valores deberían de tener el array pred para que el error fuese 0? ¿y para que error fuese de 0.25?\n",
        "# Nota: Es muy interesante comparar los resultados al aplicaer mae y mse sobre el mismo conjunto de datos. Podrás obervar\n",
        "#       que mse \"penaliza más\" (es decir, el número que se obtiene es mayor) con las diferencias entre los valores originales y los predichos que mae\n",
        "y_true = [85, 5.4, 47, 0.5 ]\n",
        "\n",
        "y_pred = [85, 5.4, 47, 0.5 ]\n",
        "print('MSE Error 0.00: -->', mean_squared_error(y_true, y_pred) )\n",
        "\n",
        "y_pred = [85, 5.4, 47, 1.5 ]\n",
        "print('MSE Error 0.25: -->', mean_squared_error(y_true, y_pred))\n",
        "\n",
        "y_pred = [85, 5.4, 47, 0.5 ]\n",
        "print('MAE Error 0.00: -->', mean_absolute_error(y_true, y_pred) )\n",
        "\n",
        "y_pred = [85, 5.4, 47, 1.5 ]\n",
        "print('MAE Error 0.25: -->', mean_absolute_error(y_true, y_pred))"
      ],
      "metadata": {
        "id": "FLZt6j17u7sE",
        "colab": {
          "base_uri": "https://localhost:8080/"
        },
        "outputId": "f5616cd0-e248-4fce-cbbe-54807548310a"
      },
      "execution_count": 7,
      "outputs": [
        {
          "output_type": "stream",
          "name": "stdout",
          "text": [
            "MSE Error 0.00: --> 0.0\n",
            "MSE Error 0.25: --> 0.25\n",
            "MAE Error 0.00: --> 0.0\n",
            "MAE Error 0.25: --> 0.25\n"
          ]
        }
      ]
    },
    {
      "cell_type": "markdown",
      "source": [
        "## Ejer 4: Crear dos matrices/arrays de valores ciertos y valores previstos, y calcular el MAPE.\n"
      ],
      "metadata": {
        "id": "aK-qg5Cb4bk3"
      }
    },
    {
      "cell_type": "code",
      "source": [
        "# Ejer 4: Crear dos matrices/arrays de valores ciertos y valores previstos, y calcular el mae.\n",
        "# ¿Qué valores deberían de tener el array pred para que el error fuese 0? ¿y para que error fuese de 0.33?"
      ],
      "metadata": {
        "id": "M9nZd4nLvIRB"
      },
      "execution_count": 8,
      "outputs": []
    },
    {
      "cell_type": "code",
      "source": [
        "y_true = [3, -0.5, 2, 7]\n",
        "\n",
        "y_pred = [3, -0.5, 2, 7]\n",
        "print('MAPE Error 0.00: -->', mean_absolute_percentage_error(y_true, y_pred))\n",
        "\n",
        "y_pred = [2.43, 0.0, 2, 8]\n",
        "print('MAPE Error 0.33: -->', mean_absolute_percentage_error(y_true, y_pred))"
      ],
      "metadata": {
        "colab": {
          "base_uri": "https://localhost:8080/"
        },
        "id": "0j3DDJPnBTmF",
        "outputId": "5c1f2628-1485-45f2-cb1a-4d063edf5081"
      },
      "execution_count": 9,
      "outputs": [
        {
          "output_type": "stream",
          "name": "stdout",
          "text": [
            "MAPE Error 0.00: --> 0.0\n",
            "MAPE Error 0.33: --> 0.3332142857142857\n"
          ]
        }
      ]
    },
    {
      "cell_type": "markdown",
      "source": [
        "## Ejer 5: Crear dos vectores/arrays de valores ciertos y valores previstos, y calcular el mape.\n"
      ],
      "metadata": {
        "id": "2fY5mMuY4dk_"
      }
    },
    {
      "cell_type": "code",
      "source": [
        "# Ejer 5: Crear dos vectores/arrays de valores ciertos y valores previstos, y calcular el mape.\n",
        "# ¿Qué valores deberían de tener el array pred para que el error fuese 0?\n",
        "\n",
        "y_true = [10, 2.5, 5, 12]\n",
        "\n",
        "y_pred = [10, 2.5, 5, 12]\n",
        "print('MAPE Error 0.00: -->', mean_absolute_percentage_error(y_true, y_pred))"
      ],
      "metadata": {
        "id": "0vsYXdRqB0TE",
        "colab": {
          "base_uri": "https://localhost:8080/"
        },
        "outputId": "81ffcc2f-cf7d-4c60-83b2-c0530de61a4d"
      },
      "execution_count": 10,
      "outputs": [
        {
          "output_type": "stream",
          "name": "stdout",
          "text": [
            "MAPE Error 0.00: --> 0.0\n"
          ]
        }
      ]
    },
    {
      "cell_type": "markdown",
      "source": [
        "## Ejer 6: Crear dos matrices/arrays de valores ciertos y valores previstos, y calcular el MAPE.\n"
      ],
      "metadata": {
        "id": "oojVF_uc4ez6"
      }
    },
    {
      "cell_type": "code",
      "source": [
        "# Ejer 6: Crear dos matrices/arrays de valores ciertos y valores previstos, y calcular el MAPE.\n",
        "# ¿Qué valores deberían de tener el array pred para que el error fuese 0?\n",
        "y_true = [-5, 1, 0, 8]  # Nuevos valores reales\n",
        "\n",
        "y_pred = [-5, 1, 0, 8]  # Predicciones para error 0.00\n",
        "print('MAPE Error 0.00: -->', mean_absolute_percentage_error(y_true, y_pred))"
      ],
      "metadata": {
        "id": "085pmFVO-cA3",
        "colab": {
          "base_uri": "https://localhost:8080/"
        },
        "outputId": "847522a6-4bcb-4a95-8153-8bc89afdcf88"
      },
      "execution_count": 11,
      "outputs": [
        {
          "output_type": "stream",
          "name": "stdout",
          "text": [
            "MAPE Error 0.00: --> 0.0\n"
          ]
        }
      ]
    }
  ]
}