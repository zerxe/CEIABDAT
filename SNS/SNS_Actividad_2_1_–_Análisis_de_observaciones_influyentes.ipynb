{
  "nbformat": 4,
  "nbformat_minor": 0,
  "metadata": {
    "colab": {
      "provenance": [],
      "authorship_tag": "ABX9TyPRQIQACJjgYOhSJ/NYnw7k",
      "include_colab_link": true
    },
    "kernelspec": {
      "name": "python3",
      "display_name": "Python 3"
    },
    "language_info": {
      "name": "python"
    }
  },
  "cells": [
    {
      "cell_type": "markdown",
      "metadata": {
        "id": "view-in-github",
        "colab_type": "text"
      },
      "source": [
        "<a href=\"https://colab.research.google.com/github/zerxe/CEIABDAT/blob/main/SNS/SNS_Actividad_2_1_%E2%80%93_An%C3%A1lisis_de_observaciones_influyentes.ipynb\" target=\"_parent\"><img src=\"https://colab.research.google.com/assets/colab-badge.svg\" alt=\"Open In Colab\"/></a>"
      ]
    },
    {
      "cell_type": "markdown",
      "source": [
        "# Actividad 2.1 – Análisis de observaciones influyentes\n",
        "Adolfo Morales Colmenares"
      ],
      "metadata": {
        "id": "Ovz8b3QBfsIM"
      }
    },
    {
      "cell_type": "code",
      "source": [
        "import numpy as np\n",
        "import pandas as pd\n",
        "import scipy.stats as st\n",
        "from sklearn.compose import ColumnTransformer\n",
        "from sklearn.preprocessing import StandardScaler  # Escalamiento Z\n",
        "from sklearn.preprocessing import MinMaxScaler    # Escalamiento por rangos"
      ],
      "metadata": {
        "id": "3xK61UxeSGT8"
      },
      "execution_count": 39,
      "outputs": []
    },
    {
      "cell_type": "markdown",
      "source": [
        "## Observaciones influyentes"
      ],
      "metadata": {
        "id": "VXqaI4LIf4DV"
      }
    },
    {
      "cell_type": "markdown",
      "source": [
        "a) (1 Punto) Calcular la media y la mediana antes de realizar la modificación de\n",
        "incluir unos ingresos de 500.000€"
      ],
      "metadata": {
        "id": "fOk5KEUWf_dW"
      }
    },
    {
      "cell_type": "code",
      "source": [
        "datos = 15000+np.random.rand(100)*10000\n",
        "datos_ord = datos\n",
        "datos_ord.sort()\n",
        "\n",
        "media=  np.mean(datos)\n",
        "mediana=  np.median (datos) # Es el valor central cuando los datos se ordenan\n",
        "print(f\" Media= {media} y Mediana={mediana}\")  # Aqui se muestra la media y mediana antes de incluir los ingresos de 500.000€\n",
        "datos[50]=500000"
      ],
      "metadata": {
        "id": "e6NC0HJ7Tl4Q",
        "colab": {
          "base_uri": "https://localhost:8080/"
        },
        "outputId": "b1d5f96b-2649-4e98-a2f7-2fc4b6339740"
      },
      "execution_count": 31,
      "outputs": [
        {
          "output_type": "stream",
          "name": "stdout",
          "text": [
            " Media= 19960.38484808487 y Mediana=20127.330313627794\n"
          ]
        }
      ]
    },
    {
      "cell_type": "markdown",
      "source": [
        "b) (2 Puntos) Aplicar el método de Probabilidad global, para detectar los outliers"
      ],
      "metadata": {
        "id": "clFWmmBQgtkS"
      }
    },
    {
      "cell_type": "markdown",
      "source": [
        "Para este punto se ajusta el método de probabilidad global usando el criterio Chauvenet para tener un ajuste en la localización de outlier que sirva con los datos de esta actividad"
      ],
      "metadata": {
        "id": "DRpF9jPKIoIG"
      }
    },
    {
      "cell_type": "code",
      "source": [
        "# Probabilidad de la muestra de estar dentro de las bandas\n",
        "p_g = 0.95\n",
        "# probabilidad global\n",
        "alfa_g = (1 - p_g) / 2\n",
        "# probabilidad  para un solo dato\n",
        "alfa= 1-(1-alfa_g)**(1/len(datos)) # Se realiza este ajuste para ser más precisos.\n",
        "#alfa = alfa_g\n",
        "\n",
        "\n",
        "alfa=st.norm.ppf(1-alfa/2) #Criterio Chauvenet\n",
        "\n",
        "alfa = round(alfa, 5)\n",
        "\n",
        "xL = round(np.mean(datos) - alfa *  np.std(datos), 4)\n",
        "xU = round(np.mean(datos) + alfa *  np.std(datos), 4)\n",
        "\n",
        "for i in  range(len(datos)):\n",
        "        if datos[i] < xL  or datos[i]>xU:\n",
        "          print(f\" El dato[{i}]={datos[i]} es un outlier\")"
      ],
      "metadata": {
        "id": "vybv4ntlgwDV",
        "colab": {
          "base_uri": "https://localhost:8080/"
        },
        "outputId": "94801c46-4387-4c8f-9e56-fef0fd08e909"
      },
      "execution_count": 32,
      "outputs": [
        {
          "output_type": "stream",
          "name": "stdout",
          "text": [
            " El dato[50]=500000.0 es un outlier\n"
          ]
        }
      ]
    },
    {
      "cell_type": "markdown",
      "source": [
        "c) (1 Punto) Repetir el mismo procedimiento de detectar los outliers para la\n",
        "mediana: ¿Qué ocurre?"
      ],
      "metadata": {
        "id": "i2Zu-RzYg-Oa"
      }
    },
    {
      "cell_type": "code",
      "source": [
        "xLMean = round(np.mean(datos) - alfa *  np.mean(datos), 4)\n",
        "xUMean = round(np.mean(datos) + alfa *  np.mean(datos), 4)\n",
        "\n",
        "for i in  range(len(datos)):\n",
        "        if datos[i] < xLMean  or datos[i]>xUMean:\n",
        "          print(f\" El dato[{i}]={datos[i]} es un outlier\")\n"
      ],
      "metadata": {
        "colab": {
          "base_uri": "https://localhost:8080/"
        },
        "id": "IJXjLroDhDCM",
        "outputId": "baac1138-8700-4cf0-ea99-110d25a64c76"
      },
      "execution_count": 33,
      "outputs": [
        {
          "output_type": "stream",
          "name": "stdout",
          "text": [
            " El dato[50]=500000.0 es un outlier\n"
          ]
        }
      ]
    },
    {
      "cell_type": "markdown",
      "source": [
        "En mi caso no veo cambios"
      ],
      "metadata": {
        "id": "2Tcy3EsubZab"
      }
    },
    {
      "cell_type": "markdown",
      "source": [
        "## Escalamiento de datos"
      ],
      "metadata": {
        "id": "zFXuLyEGNMGF"
      }
    },
    {
      "cell_type": "markdown",
      "source": [
        "Considerar que la variable X toma los valores 1,2,3,4,5,6,7,8,9,10.\n"
      ],
      "metadata": {
        "id": "A6BfSjpbNPrN"
      }
    },
    {
      "cell_type": "markdown",
      "source": [
        "a) (2 Puntos) ¿Cuánto vale la media, mediana, la desviación estándar muestral, la\n",
        "varianza muestral y el rango de la variable X?"
      ],
      "metadata": {
        "id": "Bm9Wwf8xNg2l"
      }
    },
    {
      "cell_type": "code",
      "source": [
        "x = np.array([1,2,3,4,5,6,7,8,9,10])\n",
        "\n",
        "media = np.mean(x)\n",
        "mediana = np.median(x)\n",
        "desviacion_estandar = np.std(x, ddof=1)  # ddof=1 para cálculo muestral\n",
        "varianza = np.var(x, ddof=1)  # ddof=1 para cálculo muestral\n",
        "rango = np.ptp(x)  # Diferencia entre el máximo y el mínimo\n",
        "\n",
        "print(f\"Media: {media}\")\n",
        "print(f\"Mediana: {mediana}\")\n",
        "print(f\"Desviación estándar muestral: {desviacion_estandar}\")\n",
        "print(f\"Varianza muestral: {varianza}\")\n",
        "print(f\"Rango: {rango}\")"
      ],
      "metadata": {
        "colab": {
          "base_uri": "https://localhost:8080/"
        },
        "id": "fv4XLaCXOFel",
        "outputId": "5fe90e97-a121-4e48-823c-3f106234e253"
      },
      "execution_count": 34,
      "outputs": [
        {
          "output_type": "stream",
          "name": "stdout",
          "text": [
            "Media: 5.5\n",
            "Mediana: 5.5\n",
            "Desviación estándar muestral: 3.0276503540974917\n",
            "Varianza muestral: 9.166666666666666\n",
            "Rango: 9\n"
          ]
        }
      ]
    },
    {
      "cell_type": "markdown",
      "source": [
        "b) (1 Punto) Utilizar la función describe() de Panda, para obtener la media,\n",
        "desviación estándar, etc…"
      ],
      "metadata": {
        "id": "n3IWbvV3Sl2s"
      }
    },
    {
      "cell_type": "code",
      "source": [
        "print(pd.DataFrame(x).describe())"
      ],
      "metadata": {
        "colab": {
          "base_uri": "https://localhost:8080/"
        },
        "id": "xQMrjh1bUnXb",
        "outputId": "0ff566cd-5a1c-49c4-9697-2d8aa97ab471"
      },
      "execution_count": 35,
      "outputs": [
        {
          "output_type": "stream",
          "name": "stdout",
          "text": [
            "              0\n",
            "count  10.00000\n",
            "mean    5.50000\n",
            "std     3.02765\n",
            "min     1.00000\n",
            "25%     3.25000\n",
            "50%     5.50000\n",
            "75%     7.75000\n",
            "max    10.00000\n"
          ]
        }
      ]
    },
    {
      "cell_type": "markdown",
      "source": [
        "c) (1 Punto)¿Por qué el resultado de calcular la desviación estándar con Numpy\n",
        "es diferente a la calculada por describe de Panda? ¿Qué ajuste sería necesario\n",
        "realizar para que los resultados fuesen similares/iguales?\n"
      ],
      "metadata": {
        "id": "x4Bqkhn5UwxM"
      }
    },
    {
      "cell_type": "markdown",
      "source": [
        "La diferencia entre la desviación estándar calculada por Numpy y Pandas en sus configuraciones por defecto se debe al uso del divisor en la fórmula de la desviación estándar:\n",
        "\n",
        "Numpy (np.std): Por defecto, utiliza\n",
        "𝑛\n",
        " (tamaño de la muestra) como divisor, calculando la desviación estándar poblacional. Para calcular la desviación estándar muestral, se debe especificar el argumento ddof=1, lo que cambia el divisor a\n",
        "𝑛\n",
        "−\n",
        "1\n",
        "\n",
        "Pandas (describe): Por defecto, calcula la desviación estándar muestral, usando\n",
        "𝑛\n",
        "−\n",
        "1 como divisor.\n",
        "\n",
        "Ajuste necesario\n",
        "Para que los resultados sean iguales entre ambos:\n",
        "\n",
        "En Numpy, se debe usar ddof=1 al calcular la desviación estándar para obtener el resultado muestral.\n",
        "Alternativamente, si deseas que Pandas calcule la desviación estándar poblacional, puedes configurar ddof=0."
      ],
      "metadata": {
        "id": "kM6iS9DSVNEb"
      }
    },
    {
      "cell_type": "code",
      "source": [
        "# Cálculo con numpy (muestral)\n",
        "std_numpy_muestral = np.std(x, ddof=1)\n",
        "\n",
        "# Cálculo con pandas\n",
        "std_pandas = pd.Series(x).std()\n",
        "\n",
        "print(f\"Desviación estándar con Numpy (muestral): {std_numpy_muestral}\")\n",
        "print(f\"Desviación estándar con Pandas: {std_pandas}\")\n"
      ],
      "metadata": {
        "colab": {
          "base_uri": "https://localhost:8080/"
        },
        "id": "e3rqnA49VFMr",
        "outputId": "e76eebc4-f944-4a5f-cc01-2da00b932f56"
      },
      "execution_count": 36,
      "outputs": [
        {
          "output_type": "stream",
          "name": "stdout",
          "text": [
            "Desviación estándar con Numpy (muestral): 3.0276503540974917\n",
            "Desviación estándar con Pandas: 3.0276503540974917\n"
          ]
        }
      ]
    },
    {
      "cell_type": "markdown",
      "source": [
        "d) (1 Punto) Estandarizar la variable (escalamiento) mediante rangos y a\n",
        "continuación calcular la media y la mediana de la variable escalada.\n"
      ],
      "metadata": {
        "id": "bVnpRTOKVsnj"
      }
    },
    {
      "cell_type": "code",
      "source": [
        "Data = pd.DataFrame(x, columns=['X'])\n",
        "\n",
        "# Escalamiento\n",
        "# ==============================================================================\n",
        "# Selección de columnas numéricas\n",
        "numeric_cols = Data.select_dtypes(include=['float64', 'int']).columns.to_list()\n",
        "\n",
        "# MinMaxScaler (por rangos)\n",
        "preprocessor_RR = ColumnTransformer(\n",
        "    [('scale', MinMaxScaler(), numeric_cols)], remainder='passthrough'\n",
        ")\n",
        "Data_prep_RR = preprocessor_RR.fit_transform(Data)\n",
        "\n",
        "# Creación de DataFrame\n",
        "Data_scaled_Range = pd.DataFrame(Data_prep_RR, columns=numeric_cols)\n",
        "\n",
        "# Cálculo de media y mediana de las variables escaladas\n",
        "media_Range = Data_scaled_Range.mean()\n",
        "mediana_Range = Data_scaled_Range.median()\n",
        "\n",
        "# Resultados\n",
        "print(\"\\nMedia y mediana con escalamiento por rangos:\")\n",
        "print(media_Range)\n",
        "print(mediana_Range)\n"
      ],
      "metadata": {
        "colab": {
          "base_uri": "https://localhost:8080/"
        },
        "id": "1pFnqq56VtmT",
        "outputId": "ae894984-e9c0-4cc3-edc4-0eb55af09d47"
      },
      "execution_count": 37,
      "outputs": [
        {
          "output_type": "stream",
          "name": "stdout",
          "text": [
            "\n",
            "Media y mediana con escalamiento por rangos:\n",
            "X    0.5\n",
            "dtype: float64\n",
            "X    0.5\n",
            "dtype: float64\n"
          ]
        }
      ]
    },
    {
      "cell_type": "markdown",
      "source": [
        "e) (1 Punto) Repetir el apartado anterior con el escalamiento Z - score"
      ],
      "metadata": {
        "id": "ZNZELqaAZYUT"
      }
    },
    {
      "cell_type": "code",
      "source": [
        "# Standard scaler (Z-score)\n",
        "preprocessor_SS = ColumnTransformer(\n",
        "    [('scale', StandardScaler(), numeric_cols)], remainder='passthrough'\n",
        ")\n",
        "Data_prep_SS = preprocessor_SS.fit_transform(Data)\n",
        "\n",
        "# Creación de DataFrame\n",
        "Data_scaled_Z = pd.DataFrame(Data_prep_SS, columns=numeric_cols)\n",
        "\n",
        "# Cálculo de media y mediana de las variables escaladas\n",
        "media_Z = Data_scaled_Z.mean()\n",
        "mediana_Z = Data_scaled_Z.median()\n",
        "\n",
        "# Resultados\n",
        "print(\"Media y mediana con escalamiento Z-score:\")\n",
        "print(media_Z)\n",
        "print(mediana_Z)"
      ],
      "metadata": {
        "colab": {
          "base_uri": "https://localhost:8080/"
        },
        "id": "pR3bKiePZbQj",
        "outputId": "c08927a5-7d80-464e-efe5-fcd91cc8daf0"
      },
      "execution_count": 38,
      "outputs": [
        {
          "output_type": "stream",
          "name": "stdout",
          "text": [
            "Media y mediana con escalamiento Z-score:\n",
            "X   -6.661338e-17\n",
            "dtype: float64\n",
            "X    0.0\n",
            "dtype: float64\n"
          ]
        }
      ]
    }
  ]
}