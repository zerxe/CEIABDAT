{
  "nbformat": 4,
  "nbformat_minor": 0,
  "metadata": {
    "colab": {
      "provenance": [],
      "authorship_tag": "ABX9TyP+9qgxLixbeUg0nHD7aZOv",
      "include_colab_link": true
    },
    "kernelspec": {
      "name": "python3",
      "display_name": "Python 3"
    },
    "language_info": {
      "name": "python"
    }
  },
  "cells": [
    {
      "cell_type": "markdown",
      "metadata": {
        "id": "view-in-github",
        "colab_type": "text"
      },
      "source": [
        "<a href=\"https://colab.research.google.com/github/zerxe/CEIABDAT/blob/main/7RO/Tarea_3_Naive_Bayes.ipynb\" target=\"_parent\"><img src=\"https://colab.research.google.com/assets/colab-badge.svg\" alt=\"Open In Colab\"/></a>"
      ]
    },
    {
      "cell_type": "markdown",
      "source": [
        "# Tarea 3 (24-25) Prueba de Naive Bayes en diferentes IDE"
      ],
      "metadata": {
        "id": "_PJmhwCaI7g6"
      }
    },
    {
      "cell_type": "code",
      "source": [
        "# Importamos las librerías necesarias\n",
        "from sklearn.datasets import load_iris\n",
        "from sklearn.model_selection import train_test_split\n",
        "from sklearn.naive_bayes import GaussianNB\n",
        "from sklearn.metrics import accuracy_score\n",
        "\n",
        "# Cargamos el conjunto de datos Iris\n",
        "data = load_iris()\n",
        "X = data.data  # Características\n",
        "y = data.target  # Etiquetas (Setosa, Versicolor, Virginica)\n",
        "\n",
        "# Dividimos los datos en conjuntos de entrenamiento y prueba\n",
        "X_train, X_test, y_train, y_test = train_test_split(X, y, test_size=0.3, random_state=42)\n",
        "\n",
        "# Creamos el clasificador Naive Bayes\n",
        "model = GaussianNB()\n",
        "\n",
        "# Entrenamos el modelo con los datos de entrenamiento\n",
        "model.fit(X_train, y_train)\n",
        "\n",
        "# Hacemos predicciones sobre los datos de prueba\n",
        "y_pred = model.predict(X_test)\n",
        "\n",
        "# Calculamos la precisión del modelo\n",
        "accuracy = accuracy_score(y_test, y_pred)\n",
        "print(f\"Precisión del modelo: {accuracy:.2f}\")"
      ],
      "metadata": {
        "colab": {
          "base_uri": "https://localhost:8080/"
        },
        "id": "M4XZvK3QHKRa",
        "outputId": "e8e5ffea-0c49-4952-96f1-d4344b746e94"
      },
      "execution_count": null,
      "outputs": [
        {
          "output_type": "stream",
          "name": "stdout",
          "text": [
            "Precisión del modelo: 0.98\n"
          ]
        }
      ]
    },
    {
      "cell_type": "markdown",
      "source": [
        "Explicación\n",
        "\n",
        "Cargar los datos: Utilizamos el conjunto de datos iris para simplificar la demostración.\n",
        "\n",
        "Dividir los datos: Usamos train_test_split para dividir los datos en conjuntos de entrenamiento y prueba.\n",
        "\n",
        "Modelo de Naive Bayes: Creamos un modelo GaussianNB (una variante de Naive Bayes).\n",
        "\n",
        "Entrenar y Predecir: Entrenamos el modelo y hacemos predicciones en el conjunto de prueba.\n",
        "\n",
        "Evaluar: Calculamos la precisión del modelo para ver qué tan bien clasifica las flores.\n",
        "\n",
        "Este código es bastante directo y muestra cómo implementar Naive Bayes para un problema de clasificación sencillo en Python."
      ],
      "metadata": {
        "id": "TDPvWze0I2Qx"
      }
    }
  ]
}